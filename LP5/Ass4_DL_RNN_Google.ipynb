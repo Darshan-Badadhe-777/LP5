{
 "cells": [
  {
   "cell_type": "code",
   "execution_count": 1,
   "id": "a5733ede-1d50-4287-9719-b796e245b63a",
   "metadata": {},
   "outputs": [],
   "source": [
    "import numpy as np\n",
    "import matplotlib.pyplot as plt\n",
    "import pandas as pd\n",
    "from sklearn.preprocessing import MinMaxScaler"
   ]
  },
  {
   "cell_type": "code",
   "execution_count": 3,
   "id": "5804e615-bd1c-4569-be96-db98efd1f668",
   "metadata": {},
   "outputs": [
    {
     "name": "stderr",
     "output_type": "stream",
     "text": [
      "C:\\Users\\DARSHAN B\\AppData\\Local\\Temp\\ipykernel_9724\\321720682.py:1: FutureWarning: The argument 'date_parser' is deprecated and will be removed in a future version. Please use 'date_format' instead, or read your data in as 'object' dtype and then call 'to_datetime'.\n",
      "  data = pd.read_csv('GOOGL.csv', date_parser = True)\n"
     ]
    },
    {
     "data": {
      "text/html": [
       "<div>\n",
       "<style scoped>\n",
       "    .dataframe tbody tr th:only-of-type {\n",
       "        vertical-align: middle;\n",
       "    }\n",
       "\n",
       "    .dataframe tbody tr th {\n",
       "        vertical-align: top;\n",
       "    }\n",
       "\n",
       "    .dataframe thead th {\n",
       "        text-align: right;\n",
       "    }\n",
       "</style>\n",
       "<table border=\"1\" class=\"dataframe\">\n",
       "  <thead>\n",
       "    <tr style=\"text-align: right;\">\n",
       "      <th></th>\n",
       "      <th>Date</th>\n",
       "      <th>Open</th>\n",
       "      <th>High</th>\n",
       "      <th>Low</th>\n",
       "      <th>Close</th>\n",
       "      <th>Adj Close</th>\n",
       "      <th>Volume</th>\n",
       "    </tr>\n",
       "  </thead>\n",
       "  <tbody>\n",
       "    <tr>\n",
       "      <th>4426</th>\n",
       "      <td>2022-03-18</td>\n",
       "      <td>2668.489990</td>\n",
       "      <td>2724.879883</td>\n",
       "      <td>2645.169922</td>\n",
       "      <td>2722.510010</td>\n",
       "      <td>2722.510010</td>\n",
       "      <td>2223100</td>\n",
       "    </tr>\n",
       "    <tr>\n",
       "      <th>4427</th>\n",
       "      <td>2022-03-21</td>\n",
       "      <td>2723.270020</td>\n",
       "      <td>2741.000000</td>\n",
       "      <td>2681.850098</td>\n",
       "      <td>2722.030029</td>\n",
       "      <td>2722.030029</td>\n",
       "      <td>1341600</td>\n",
       "    </tr>\n",
       "    <tr>\n",
       "      <th>4428</th>\n",
       "      <td>2022-03-22</td>\n",
       "      <td>2722.030029</td>\n",
       "      <td>2821.000000</td>\n",
       "      <td>2722.030029</td>\n",
       "      <td>2797.360107</td>\n",
       "      <td>2797.360107</td>\n",
       "      <td>1774800</td>\n",
       "    </tr>\n",
       "    <tr>\n",
       "      <th>4429</th>\n",
       "      <td>2022-03-23</td>\n",
       "      <td>2774.050049</td>\n",
       "      <td>2791.770020</td>\n",
       "      <td>2756.699951</td>\n",
       "      <td>2765.510010</td>\n",
       "      <td>2765.510010</td>\n",
       "      <td>1257700</td>\n",
       "    </tr>\n",
       "    <tr>\n",
       "      <th>4430</th>\n",
       "      <td>2022-03-24</td>\n",
       "      <td>2784.000000</td>\n",
       "      <td>2832.379883</td>\n",
       "      <td>2755.010010</td>\n",
       "      <td>2831.439941</td>\n",
       "      <td>2831.439941</td>\n",
       "      <td>1317900</td>\n",
       "    </tr>\n",
       "  </tbody>\n",
       "</table>\n",
       "</div>"
      ],
      "text/plain": [
       "            Date         Open         High          Low        Close  \\\n",
       "4426  2022-03-18  2668.489990  2724.879883  2645.169922  2722.510010   \n",
       "4427  2022-03-21  2723.270020  2741.000000  2681.850098  2722.030029   \n",
       "4428  2022-03-22  2722.030029  2821.000000  2722.030029  2797.360107   \n",
       "4429  2022-03-23  2774.050049  2791.770020  2756.699951  2765.510010   \n",
       "4430  2022-03-24  2784.000000  2832.379883  2755.010010  2831.439941   \n",
       "\n",
       "        Adj Close   Volume  \n",
       "4426  2722.510010  2223100  \n",
       "4427  2722.030029  1341600  \n",
       "4428  2797.360107  1774800  \n",
       "4429  2765.510010  1257700  \n",
       "4430  2831.439941  1317900  "
      ]
     },
     "execution_count": 3,
     "metadata": {},
     "output_type": "execute_result"
    }
   ],
   "source": [
    "data = pd.read_csv('GOOGL.csv', date_parser = True)\n",
    "\n",
    "data.tail()"
   ]
  },
  {
   "cell_type": "code",
   "execution_count": 4,
   "id": "256271f2-3942-4ac3-b358-d3ae7c5c18da",
   "metadata": {},
   "outputs": [
    {
     "data": {
      "text/plain": [
       "Index(['Date', 'Open', 'High', 'Low', 'Close', 'Adj Close', 'Volume'], dtype='object')"
      ]
     },
     "execution_count": 4,
     "metadata": {},
     "output_type": "execute_result"
    }
   ],
   "source": [
    "data.columns"
   ]
  },
  {
   "cell_type": "code",
   "execution_count": 5,
   "id": "2ffc4845-f8bf-4cb3-b9ef-ac379bc033fe",
   "metadata": {},
   "outputs": [
    {
     "data": {
      "text/plain": [
       "Date          object\n",
       "Open         float64\n",
       "High         float64\n",
       "Low          float64\n",
       "Close        float64\n",
       "Adj Close    float64\n",
       "Volume         int64\n",
       "dtype: object"
      ]
     },
     "execution_count": 5,
     "metadata": {},
     "output_type": "execute_result"
    }
   ],
   "source": [
    "data.dtypes"
   ]
  },
  {
   "cell_type": "code",
   "execution_count": 6,
   "id": "13a70018-5458-4177-a479-d145f0297ce1",
   "metadata": {},
   "outputs": [
    {
     "data": {
      "text/html": [
       "<div>\n",
       "<style scoped>\n",
       "    .dataframe tbody tr th:only-of-type {\n",
       "        vertical-align: middle;\n",
       "    }\n",
       "\n",
       "    .dataframe tbody tr th {\n",
       "        vertical-align: top;\n",
       "    }\n",
       "\n",
       "    .dataframe thead th {\n",
       "        text-align: right;\n",
       "    }\n",
       "</style>\n",
       "<table border=\"1\" class=\"dataframe\">\n",
       "  <thead>\n",
       "    <tr style=\"text-align: right;\">\n",
       "      <th></th>\n",
       "      <th>Open</th>\n",
       "      <th>High</th>\n",
       "      <th>Low</th>\n",
       "      <th>Close</th>\n",
       "      <th>Adj Close</th>\n",
       "      <th>Volume</th>\n",
       "    </tr>\n",
       "  </thead>\n",
       "  <tbody>\n",
       "    <tr>\n",
       "      <th>count</th>\n",
       "      <td>4431.000000</td>\n",
       "      <td>4431.000000</td>\n",
       "      <td>4431.000000</td>\n",
       "      <td>4431.000000</td>\n",
       "      <td>4431.000000</td>\n",
       "      <td>4.431000e+03</td>\n",
       "    </tr>\n",
       "    <tr>\n",
       "      <th>mean</th>\n",
       "      <td>693.087345</td>\n",
       "      <td>699.735595</td>\n",
       "      <td>686.078751</td>\n",
       "      <td>693.097367</td>\n",
       "      <td>693.097367</td>\n",
       "      <td>6.444992e+06</td>\n",
       "    </tr>\n",
       "    <tr>\n",
       "      <th>std</th>\n",
       "      <td>645.118799</td>\n",
       "      <td>651.331215</td>\n",
       "      <td>638.579488</td>\n",
       "      <td>645.187806</td>\n",
       "      <td>645.187806</td>\n",
       "      <td>7.690351e+06</td>\n",
       "    </tr>\n",
       "    <tr>\n",
       "      <th>min</th>\n",
       "      <td>49.644646</td>\n",
       "      <td>50.920921</td>\n",
       "      <td>48.028027</td>\n",
       "      <td>50.055054</td>\n",
       "      <td>50.055054</td>\n",
       "      <td>4.656000e+05</td>\n",
       "    </tr>\n",
       "    <tr>\n",
       "      <th>25%</th>\n",
       "      <td>248.558563</td>\n",
       "      <td>250.853355</td>\n",
       "      <td>245.813309</td>\n",
       "      <td>248.415916</td>\n",
       "      <td>248.415916</td>\n",
       "      <td>1.695600e+06</td>\n",
       "    </tr>\n",
       "    <tr>\n",
       "      <th>50%</th>\n",
       "      <td>434.924927</td>\n",
       "      <td>437.887878</td>\n",
       "      <td>432.687683</td>\n",
       "      <td>435.330322</td>\n",
       "      <td>435.330322</td>\n",
       "      <td>3.778418e+06</td>\n",
       "    </tr>\n",
       "    <tr>\n",
       "      <th>75%</th>\n",
       "      <td>1007.364990</td>\n",
       "      <td>1020.649994</td>\n",
       "      <td>997.274994</td>\n",
       "      <td>1007.790008</td>\n",
       "      <td>1007.790008</td>\n",
       "      <td>8.002390e+06</td>\n",
       "    </tr>\n",
       "    <tr>\n",
       "      <th>max</th>\n",
       "      <td>3025.000000</td>\n",
       "      <td>3030.929932</td>\n",
       "      <td>2977.979980</td>\n",
       "      <td>2996.770020</td>\n",
       "      <td>2996.770020</td>\n",
       "      <td>8.215117e+07</td>\n",
       "    </tr>\n",
       "  </tbody>\n",
       "</table>\n",
       "</div>"
      ],
      "text/plain": [
       "              Open         High          Low        Close    Adj Close  \\\n",
       "count  4431.000000  4431.000000  4431.000000  4431.000000  4431.000000   \n",
       "mean    693.087345   699.735595   686.078751   693.097367   693.097367   \n",
       "std     645.118799   651.331215   638.579488   645.187806   645.187806   \n",
       "min      49.644646    50.920921    48.028027    50.055054    50.055054   \n",
       "25%     248.558563   250.853355   245.813309   248.415916   248.415916   \n",
       "50%     434.924927   437.887878   432.687683   435.330322   435.330322   \n",
       "75%    1007.364990  1020.649994   997.274994  1007.790008  1007.790008   \n",
       "max    3025.000000  3030.929932  2977.979980  2996.770020  2996.770020   \n",
       "\n",
       "             Volume  \n",
       "count  4.431000e+03  \n",
       "mean   6.444992e+06  \n",
       "std    7.690351e+06  \n",
       "min    4.656000e+05  \n",
       "25%    1.695600e+06  \n",
       "50%    3.778418e+06  \n",
       "75%    8.002390e+06  \n",
       "max    8.215117e+07  "
      ]
     },
     "execution_count": 6,
     "metadata": {},
     "output_type": "execute_result"
    }
   ],
   "source": [
    "data.describe()"
   ]
  },
  {
   "cell_type": "code",
   "execution_count": 7,
   "id": "c8c08188-fa55-4a0b-bba8-eb936340ea53",
   "metadata": {},
   "outputs": [
    {
     "data": {
      "text/plain": [
       "Date         0\n",
       "Open         0\n",
       "High         0\n",
       "Low          0\n",
       "Close        0\n",
       "Adj Close    0\n",
       "Volume       0\n",
       "dtype: int64"
      ]
     },
     "execution_count": 7,
     "metadata": {},
     "output_type": "execute_result"
    }
   ],
   "source": [
    "data.isnull().sum()"
   ]
  },
  {
   "cell_type": "code",
   "execution_count": 8,
   "id": "484d1e9b-33ba-4251-8a78-b9af3c86b80b",
   "metadata": {},
   "outputs": [
    {
     "data": {
      "image/png": "[encoded data removed]",
      "text/plain": [
       "<Figure size 1000x600 with 2 Axes>"
      ]
     },
     "metadata": {},
     "output_type": "display_data"
    }
   ],
   "source": [
    "import seaborn as sns\n",
    "import matplotlib.pyplot as plt\n",
    "\n",
    "# Drop non-numeric columns like 'Date'\n",
    "numeric_data = data.drop(columns=['Date'])\n",
    "\n",
    "# Plot correlation matrix\n",
    "plt.figure(figsize=(10,6))\n",
    "corr_matrix = numeric_data.corr()\n",
    "sns.heatmap(corr_matrix, annot=True, cmap='coolwarm')\n",
    "plt.title('Feature Correlation Matrix')\n",
    "plt.show()\n"
   ]
  },
  {
   "cell_type": "markdown",
   "id": "5eae8327-64e9-4fd1-a96f-aa727cf4b63e",
   "metadata": {},
   "source": [
    "From the heatmap above, we observe that the 'Close' price is highly correlated with 'Open', 'High', and 'Low', indicating it's a good representative of the stock's daily trend. As it reflects the final value at the end of trading, it is most commonly used in financial forecasting, making it an appropriate target (output) column for prediction."
   ]
  },
  {
   "cell_type": "code",
   "execution_count": 9,
   "id": "7bc7d9fe-91cb-4f26-940c-c194ca50972e",
   "metadata": {},
   "outputs": [],
   "source": [
    "data_training = data[data['Date']<'2019-01-01'].copy()\n",
    "data_test = data[data['Date']>='2019-01-01'].copy()"
   ]
  },
  {
   "cell_type": "code",
   "execution_count": 10,
   "id": "71a3557e-2176-4d72-af4e-cadd26eb9456",
   "metadata": {},
   "outputs": [],
   "source": [
    "data_training = data_training.drop(['Date', 'Adj Close'], axis = 1)"
   ]
  },
  {
   "cell_type": "code",
   "execution_count": 11,
   "id": "ca3e4566-611f-45d6-9bde-3d57b33a98b4",
   "metadata": {},
   "outputs": [
    {
     "data": {
      "text/plain": [
       "array([[3.27076291e-04, 9.36027567e-04, 0.00000000e+00, 1.33688677e-04,\n",
       "        5.40710393e-01],\n",
       "       [7.34916593e-04, 2.96140240e-03, 1.87022750e-03, 3.36247683e-03,\n",
       "        2.73350337e-01],\n",
       "       [4.66793067e-03, 4.73662871e-03, 5.39234743e-03, 3.80405377e-03,\n",
       "        2.17265746e-01],\n",
       "       ...,\n",
       "       [7.87877956e-01, 8.08064229e-01, 7.89295551e-01, 8.11727769e-01,\n",
       "        2.17957570e-02],\n",
       "       [8.14744202e-01, 8.16842824e-01, 8.18102800e-01, 8.06693170e-01,\n",
       "        1.46918004e-02],\n",
       "       [8.13396822e-01, 8.15843250e-01, 8.10728176e-01, 8.05300884e-01,\n",
       "        1.39028803e-02]])"
      ]
     },
     "execution_count": 11,
     "metadata": {},
     "output_type": "execute_result"
    }
   ],
   "source": [
    "scaler = MinMaxScaler()\n",
    "data_training = scaler.fit_transform(data_training)\n",
    "data_training"
   ]
  },
  {
   "cell_type": "code",
   "execution_count": 12,
   "id": "518bfa26-9c34-4a16-9a19-264694c892af",
   "metadata": {},
   "outputs": [],
   "source": [
    "# create RNN with 60 timesteps, i.e. look 60 previous time steps\n",
    "X_train = []\n",
    "y_train = []\n",
    "for i in range(60, data_training.shape[0]):\n",
    "    X_train.append(data_training[i-60:i])\n",
    "    y_train.append(data_training[i, 0])"
   ]
  },
  {
   "cell_type": "code",
   "execution_count": 13,
   "id": "a0165629-dd05-480c-bffc-82f2dccc75fa",
   "metadata": {},
   "outputs": [],
   "source": [
    "X_train, y_train = np.array(X_train), np.array(y_train)"
   ]
  },
  {
   "cell_type": "code",
   "execution_count": 14,
   "id": "66210c28-bbee-41c7-94a5-5876d87cad69",
   "metadata": {},
   "outputs": [
    {
     "data": {
      "text/plain": [
       "(3557, 60, 5)"
      ]
     },
     "execution_count": 14,
     "metadata": {},
     "output_type": "execute_result"
    }
   ],
   "source": [
    "X_train.shape"
   ]
  },
  {
   "cell_type": "code",
   "execution_count": 16,
   "id": "7e2eb1a6-5a45-4c5b-ba02-c35926080e1a",
   "metadata": {},
   "outputs": [],
   "source": [
    "# building LSTM\n",
    "from tensorflow.keras import Sequential\n",
    "from tensorflow.keras.layers import Dense, LSTM, Dropout"
   ]
  },
  {
   "cell_type": "code",
   "execution_count": 17,
   "id": "0ecc8b25-d253-4ba6-a8e4-b408ccb72df6",
   "metadata": {},
   "outputs": [
    {
     "name": "stderr",
     "output_type": "stream",
     "text": [
      "C:\\Python312\\Lib\\site-packages\\keras\\src\\layers\\rnn\\rnn.py:200: UserWarning: Do not pass an `input_shape`/`input_dim` argument to a layer. When using Sequential models, prefer using an `Input(shape)` object as the first layer in the model instead.\n",
      "  super().__init__(**kwargs)\n"
     ]
    }
   ],
   "source": [
    "regressor = Sequential()\n",
    "\n",
    "regressor.add(LSTM(units = 60, activation = 'relu', return_sequences = True, input_shape = (X_train.shape[1], 5)))\n",
    "regressor.add(Dropout(0.2))\n",
    "\n",
    "regressor.add(LSTM(units = 120, activation = 'relu'))\n",
    "regressor.add(Dropout(0.2))\n",
    "\n",
    "regressor.add(Dense(units = 1))"
   ]
  },
  {
   "cell_type": "code",
   "execution_count": 18,
   "id": "e44663ce-2600-45b5-a81b-bceaad424a71",
   "metadata": {},
   "outputs": [
    {
     "data": {
      "text/html": [
       "<pre style=\"white-space:pre;overflow-x:auto;line-height:normal;font-family:Menlo,'DejaVu Sans Mono',consolas,'Courier New',monospace\"><span style=\"font-weight: bold\">Model: \"sequential\"</span>\n",
       "</pre>\n"
      ],
      "text/plain": [
       "\u001b[1mModel: \"sequential\"\u001b[0m\n"
      ]
     },
     "metadata": {},
     "output_type": "display_data"
    },
    {
     "data": {
      "text/html": [
       "<pre style=\"white-space:pre;overflow-x:auto;line-height:normal;font-family:Menlo,'DejaVu Sans Mono',consolas,'Courier New',monospace\">┏━━━━━━━━━━━━━━━━━━━━━━━━━━━━━━━━━━━━━━┳━━━━━━━━━━━━━━━━━━━━━━━━━━━━━┳━━━━━━━━━━━━━━━━━┓\n",
       "┃<span style=\"font-weight: bold\"> Layer (type)                         </span>┃<span style=\"font-weight: bold\"> Output Shape                </span>┃<span style=\"font-weight: bold\">         Param # </span>┃\n",
       "┡━━━━━━━━━━━━━━━━━━━━━━━━━━━━━━━━━━━━━━╇━━━━━━━━━━━━━━━━━━━━━━━━━━━━━╇━━━━━━━━━━━━━━━━━┩\n",
       "│ lstm (<span style=\"color: #0087ff; text-decoration-color: #0087ff\">LSTM</span>)                          │ (<span style=\"color: #00d7ff; text-decoration-color: #00d7ff\">None</span>, <span style=\"color: #00af00; text-decoration-color: #00af00\">60</span>, <span style=\"color: #00af00; text-decoration-color: #00af00\">60</span>)              │          <span style=\"color: #00af00; text-decoration-color: #00af00\">15,840</span> │\n",
       "├──────────────────────────────────────┼─────────────────────────────┼─────────────────┤\n",
       "│ dropout (<span style=\"color: #0087ff; text-decoration-color: #0087ff\">Dropout</span>)                    │ (<span style=\"color: #00d7ff; text-decoration-color: #00d7ff\">None</span>, <span style=\"color: #00af00; text-decoration-color: #00af00\">60</span>, <span style=\"color: #00af00; text-decoration-color: #00af00\">60</span>)              │               <span style=\"color: #00af00; text-decoration-color: #00af00\">0</span> │\n",
       "├──────────────────────────────────────┼─────────────────────────────┼─────────────────┤\n",
       "│ lstm_1 (<span style=\"color: #0087ff; text-decoration-color: #0087ff\">LSTM</span>)                        │ (<span style=\"color: #00d7ff; text-decoration-color: #00d7ff\">None</span>, <span style=\"color: #00af00; text-decoration-color: #00af00\">120</span>)                 │          <span style=\"color: #00af00; text-decoration-color: #00af00\">86,880</span> │\n",
       "├──────────────────────────────────────┼─────────────────────────────┼─────────────────┤\n",
       "│ dropout_1 (<span style=\"color: #0087ff; text-decoration-color: #0087ff\">Dropout</span>)                  │ (<span style=\"color: #00d7ff; text-decoration-color: #00d7ff\">None</span>, <span style=\"color: #00af00; text-decoration-color: #00af00\">120</span>)                 │               <span style=\"color: #00af00; text-decoration-color: #00af00\">0</span> │\n",
       "├──────────────────────────────────────┼─────────────────────────────┼─────────────────┤\n",
       "│ dense (<span style=\"color: #0087ff; text-decoration-color: #0087ff\">Dense</span>)                        │ (<span style=\"color: #00d7ff; text-decoration-color: #00d7ff\">None</span>, <span style=\"color: #00af00; text-decoration-color: #00af00\">1</span>)                   │             <span style=\"color: #00af00; text-decoration-color: #00af00\">121</span> │\n",
       "└──────────────────────────────────────┴─────────────────────────────┴─────────────────┘\n",
       "</pre>\n"
      ],
      "text/plain": [
       "┏━━━━━━━━━━━━━━━━━━━━━━━━━━━━━━━━━━━━━━┳━━━━━━━━━━━━━━━━━━━━━━━━━━━━━┳━━━━━━━━━━━━━━━━━┓\n",
       "┃\u001b[1m \u001b[0m\u001b[1mLayer (type)                        \u001b[0m\u001b[1m \u001b[0m┃\u001b[1m \u001b[0m\u001b[1mOutput Shape               \u001b[0m\u001b[1m \u001b[0m┃\u001b[1m \u001b[0m\u001b[1m        Param #\u001b[0m\u001b[1m \u001b[0m┃\n",
       "┡━━━━━━━━━━━━━━━━━━━━━━━━━━━━━━━━━━━━━━╇━━━━━━━━━━━━━━━━━━━━━━━━━━━━━╇━━━━━━━━━━━━━━━━━┩\n",
       "│ lstm (\u001b[38;5;33mLSTM\u001b[0m)                          │ (\u001b[38;5;45mNone\u001b[0m, \u001b[38;5;34m60\u001b[0m, \u001b[38;5;34m60\u001b[0m)              │          \u001b[38;5;34m15,840\u001b[0m │\n",
       "├──────────────────────────────────────┼─────────────────────────────┼─────────────────┤\n",
       "│ dropout (\u001b[38;5;33mDropout\u001b[0m)                    │ (\u001b[38;5;45mNone\u001b[0m, \u001b[38;5;34m60\u001b[0m, \u001b[38;5;34m60\u001b[0m)              │               \u001b[38;5;34m0\u001b[0m │\n",
       "├──────────────────────────────────────┼─────────────────────────────┼─────────────────┤\n",
       "│ lstm_1 (\u001b[38;5;33mLSTM\u001b[0m)                        │ (\u001b[38;5;45mNone\u001b[0m, \u001b[38;5;34m120\u001b[0m)                 │          \u001b[38;5;34m86,880\u001b[0m │\n",
       "├──────────────────────────────────────┼─────────────────────────────┼─────────────────┤\n",
       "│ dropout_1 (\u001b[38;5;33mDropout\u001b[0m)                  │ (\u001b[38;5;45mNone\u001b[0m, \u001b[38;5;34m120\u001b[0m)                 │               \u001b[38;5;34m0\u001b[0m │\n",
       "├──────────────────────────────────────┼─────────────────────────────┼─────────────────┤\n",
       "│ dense (\u001b[38;5;33mDense\u001b[0m)                        │ (\u001b[38;5;45mNone\u001b[0m, \u001b[38;5;34m1\u001b[0m)                   │             \u001b[38;5;34m121\u001b[0m │\n",
       "└──────────────────────────────────────┴─────────────────────────────┴─────────────────┘\n"
      ]
     },
     "metadata": {},
     "output_type": "display_data"
    },
    {
     "data": {
      "text/html": [
       "<pre style=\"white-space:pre;overflow-x:auto;line-height:normal;font-family:Menlo,'DejaVu Sans Mono',consolas,'Courier New',monospace\"><span style=\"font-weight: bold\"> Total params: </span><span style=\"color: #00af00; text-decoration-color: #00af00\">102,841</span> (401.72 KB)\n",
       "</pre>\n"
      ],
      "text/plain": [
       "\u001b[1m Total params: \u001b[0m\u001b[38;5;34m102,841\u001b[0m (401.72 KB)\n"
      ]
     },
     "metadata": {},
     "output_type": "display_data"
    },
    {
     "data": {
      "text/html": [
       "<pre style=\"white-space:pre;overflow-x:auto;line-height:normal;font-family:Menlo,'DejaVu Sans Mono',consolas,'Courier New',monospace\"><span style=\"font-weight: bold\"> Trainable params: </span><span style=\"color: #00af00; text-decoration-color: #00af00\">102,841</span> (401.72 KB)\n",
       "</pre>\n"
      ],
      "text/plain": [
       "\u001b[1m Trainable params: \u001b[0m\u001b[38;5;34m102,841\u001b[0m (401.72 KB)\n"
      ]
     },
     "metadata": {},
     "output_type": "display_data"
    },
    {
     "data": {
      "text/html": [
       "<pre style=\"white-space:pre;overflow-x:auto;line-height:normal;font-family:Menlo,'DejaVu Sans Mono',consolas,'Courier New',monospace\"><span style=\"font-weight: bold\"> Non-trainable params: </span><span style=\"color: #00af00; text-decoration-color: #00af00\">0</span> (0.00 B)\n",
       "</pre>\n"
      ],
      "text/plain": [
       "\u001b[1m Non-trainable params: \u001b[0m\u001b[38;5;34m0\u001b[0m (0.00 B)\n"
      ]
     },
     "metadata": {},
     "output_type": "display_data"
    }
   ],
   "source": [
    "regressor.summary()"
   ]
  },
  {
   "cell_type": "code",
   "execution_count": 19,
   "id": "ff8788fe-1be5-4064-9621-22820298609c",
   "metadata": {},
   "outputs": [],
   "source": [
    "regressor.compile(optimizer='adam', loss = 'mean_squared_error')"
   ]
  },
  {
   "cell_type": "code",
   "execution_count": 20,
   "id": "3fd6a5cb-9ecd-4c42-83bc-92329050c0e8",
   "metadata": {},
   "outputs": [
    {
     "name": "stdout",
     "output_type": "stream",
     "text": [
      "Epoch 1/5\n",
      "\u001b[1m112/112\u001b[0m \u001b[32m━━━━━━━━━━━━━━━━━━━━\u001b[0m\u001b[37m\u001b[0m \u001b[1m7s\u001b[0m 33ms/step - loss: 0.0222\n",
      "Epoch 2/5\n",
      "\u001b[1m112/112\u001b[0m \u001b[32m━━━━━━━━━━━━━━━━━━━━\u001b[0m\u001b[37m\u001b[0m \u001b[1m4s\u001b[0m 33ms/step - loss: 0.0017\n",
      "Epoch 3/5\n",
      "\u001b[1m112/112\u001b[0m \u001b[32m━━━━━━━━━━━━━━━━━━━━\u001b[0m\u001b[37m\u001b[0m \u001b[1m4s\u001b[0m 33ms/step - loss: 0.0015\n",
      "Epoch 4/5\n",
      "\u001b[1m112/112\u001b[0m \u001b[32m━━━━━━━━━━━━━━━━━━━━\u001b[0m\u001b[37m\u001b[0m \u001b[1m4s\u001b[0m 32ms/step - loss: 0.0018\n",
      "Epoch 5/5\n",
      "\u001b[1m112/112\u001b[0m \u001b[32m━━━━━━━━━━━━━━━━━━━━\u001b[0m\u001b[37m\u001b[0m \u001b[1m4s\u001b[0m 33ms/step - loss: 0.0012\n"
     ]
    },
    {
     "data": {
      "text/plain": [
       "<keras.src.callbacks.history.History at 0x15cd0f43440>"
      ]
     },
     "execution_count": 20,
     "metadata": {},
     "output_type": "execute_result"
    }
   ],
   "source": [
    "regressor.fit(X_train, y_train, epochs=5, batch_size=32)"
   ]
  },
  {
   "cell_type": "code",
   "execution_count": 21,
   "id": "c3777e7b-66cf-4930-b673-d8dff700c902",
   "metadata": {},
   "outputs": [
    {
     "data": {
      "text/html": [
       "<div>\n",
       "<style scoped>\n",
       "    .dataframe tbody tr th:only-of-type {\n",
       "        vertical-align: middle;\n",
       "    }\n",
       "\n",
       "    .dataframe tbody tr th {\n",
       "        vertical-align: top;\n",
       "    }\n",
       "\n",
       "    .dataframe thead th {\n",
       "        text-align: right;\n",
       "    }\n",
       "</style>\n",
       "<table border=\"1\" class=\"dataframe\">\n",
       "  <thead>\n",
       "    <tr style=\"text-align: right;\">\n",
       "      <th></th>\n",
       "      <th>Date</th>\n",
       "      <th>Open</th>\n",
       "      <th>High</th>\n",
       "      <th>Low</th>\n",
       "      <th>Close</th>\n",
       "      <th>Adj Close</th>\n",
       "      <th>Volume</th>\n",
       "    </tr>\n",
       "  </thead>\n",
       "  <tbody>\n",
       "    <tr>\n",
       "      <th>3617</th>\n",
       "      <td>2019-01-02</td>\n",
       "      <td>1027.199951</td>\n",
       "      <td>1060.790039</td>\n",
       "      <td>1025.280029</td>\n",
       "      <td>1054.680054</td>\n",
       "      <td>1054.680054</td>\n",
       "      <td>1593400</td>\n",
       "    </tr>\n",
       "    <tr>\n",
       "      <th>3618</th>\n",
       "      <td>2019-01-03</td>\n",
       "      <td>1050.670044</td>\n",
       "      <td>1066.260010</td>\n",
       "      <td>1022.369995</td>\n",
       "      <td>1025.469971</td>\n",
       "      <td>1025.469971</td>\n",
       "      <td>2098000</td>\n",
       "    </tr>\n",
       "    <tr>\n",
       "      <th>3619</th>\n",
       "      <td>2019-01-04</td>\n",
       "      <td>1042.560059</td>\n",
       "      <td>1080.000000</td>\n",
       "      <td>1036.859985</td>\n",
       "      <td>1078.069946</td>\n",
       "      <td>1078.069946</td>\n",
       "      <td>2301100</td>\n",
       "    </tr>\n",
       "    <tr>\n",
       "      <th>3620</th>\n",
       "      <td>2019-01-07</td>\n",
       "      <td>1080.969971</td>\n",
       "      <td>1082.699951</td>\n",
       "      <td>1062.640015</td>\n",
       "      <td>1075.920044</td>\n",
       "      <td>1075.920044</td>\n",
       "      <td>2372300</td>\n",
       "    </tr>\n",
       "    <tr>\n",
       "      <th>3621</th>\n",
       "      <td>2019-01-08</td>\n",
       "      <td>1086.000000</td>\n",
       "      <td>1093.349976</td>\n",
       "      <td>1068.349976</td>\n",
       "      <td>1085.369995</td>\n",
       "      <td>1085.369995</td>\n",
       "      <td>1770700</td>\n",
       "    </tr>\n",
       "  </tbody>\n",
       "</table>\n",
       "</div>"
      ],
      "text/plain": [
       "            Date         Open         High          Low        Close  \\\n",
       "3617  2019-01-02  1027.199951  1060.790039  1025.280029  1054.680054   \n",
       "3618  2019-01-03  1050.670044  1066.260010  1022.369995  1025.469971   \n",
       "3619  2019-01-04  1042.560059  1080.000000  1036.859985  1078.069946   \n",
       "3620  2019-01-07  1080.969971  1082.699951  1062.640015  1075.920044   \n",
       "3621  2019-01-08  1086.000000  1093.349976  1068.349976  1085.369995   \n",
       "\n",
       "        Adj Close   Volume  \n",
       "3617  1054.680054  1593400  \n",
       "3618  1025.469971  2098000  \n",
       "3619  1078.069946  2301100  \n",
       "3620  1075.920044  2372300  \n",
       "3621  1085.369995  1770700  "
      ]
     },
     "execution_count": 21,
     "metadata": {},
     "output_type": "execute_result"
    }
   ],
   "source": [
    "#test data preparation\n",
    "data_test.head()"
   ]
  },
  {
   "cell_type": "code",
   "execution_count": 22,
   "id": "85dac624-635b-4a15-9e45-2e20555fb997",
   "metadata": {},
   "outputs": [],
   "source": [
    "data_training= data_test.tail()"
   ]
  },
  {
   "cell_type": "code",
   "execution_count": 23,
   "id": "04021b0f-aad4-4e4e-be15-1865bf366169",
   "metadata": {},
   "outputs": [
    {
     "data": {
      "text/html": [
       "<div>\n",
       "<style scoped>\n",
       "    .dataframe tbody tr th:only-of-type {\n",
       "        vertical-align: middle;\n",
       "    }\n",
       "\n",
       "    .dataframe tbody tr th {\n",
       "        vertical-align: top;\n",
       "    }\n",
       "\n",
       "    .dataframe thead th {\n",
       "        text-align: right;\n",
       "    }\n",
       "</style>\n",
       "<table border=\"1\" class=\"dataframe\">\n",
       "  <thead>\n",
       "    <tr style=\"text-align: right;\">\n",
       "      <th></th>\n",
       "      <th>Open</th>\n",
       "      <th>High</th>\n",
       "      <th>Low</th>\n",
       "      <th>Close</th>\n",
       "      <th>Volume</th>\n",
       "    </tr>\n",
       "  </thead>\n",
       "  <tbody>\n",
       "    <tr>\n",
       "      <th>0</th>\n",
       "      <td>2668.489990</td>\n",
       "      <td>2724.879883</td>\n",
       "      <td>2645.169922</td>\n",
       "      <td>2722.510010</td>\n",
       "      <td>2223100</td>\n",
       "    </tr>\n",
       "    <tr>\n",
       "      <th>1</th>\n",
       "      <td>2723.270020</td>\n",
       "      <td>2741.000000</td>\n",
       "      <td>2681.850098</td>\n",
       "      <td>2722.030029</td>\n",
       "      <td>1341600</td>\n",
       "    </tr>\n",
       "    <tr>\n",
       "      <th>2</th>\n",
       "      <td>2722.030029</td>\n",
       "      <td>2821.000000</td>\n",
       "      <td>2722.030029</td>\n",
       "      <td>2797.360107</td>\n",
       "      <td>1774800</td>\n",
       "    </tr>\n",
       "    <tr>\n",
       "      <th>3</th>\n",
       "      <td>2774.050049</td>\n",
       "      <td>2791.770020</td>\n",
       "      <td>2756.699951</td>\n",
       "      <td>2765.510010</td>\n",
       "      <td>1257700</td>\n",
       "    </tr>\n",
       "    <tr>\n",
       "      <th>4</th>\n",
       "      <td>2784.000000</td>\n",
       "      <td>2832.379883</td>\n",
       "      <td>2755.010010</td>\n",
       "      <td>2831.439941</td>\n",
       "      <td>1317900</td>\n",
       "    </tr>\n",
       "  </tbody>\n",
       "</table>\n",
       "</div>"
      ],
      "text/plain": [
       "          Open         High          Low        Close   Volume\n",
       "0  2668.489990  2724.879883  2645.169922  2722.510010  2223100\n",
       "1  2723.270020  2741.000000  2681.850098  2722.030029  1341600\n",
       "2  2722.030029  2821.000000  2722.030029  2797.360107  1774800\n",
       "3  2774.050049  2791.770020  2756.699951  2765.510010  1257700\n",
       "4  2784.000000  2832.379883  2755.010010  2831.439941  1317900"
      ]
     },
     "execution_count": 23,
     "metadata": {},
     "output_type": "execute_result"
    }
   ],
   "source": [
    "past_60_days = data_training.tail(60)\n",
    "df = pd.concat([past_60_days, data_test], ignore_index=True)\n",
    "df = df.drop(['Date', 'Adj Close'], axis=1)\n",
    "df.head()"
   ]
  },
  {
   "cell_type": "code",
   "execution_count": 24,
   "id": "1ba00a6b-6470-46b4-bc93-679d6c1456c6",
   "metadata": {},
   "outputs": [
    {
     "data": {
      "text/plain": [
       "array([[2.11286602, 2.1555163 , 2.13761466, 2.1631518 , 0.02085616],\n",
       "       [2.15706216, 2.16851095, 2.1678048 , 2.16276329, 0.01005751],\n",
       "       [2.15606174, 2.23300009, 2.20087546, 2.22373734, 0.01536434],\n",
       "       ...,\n",
       "       [2.15606174, 2.23300009, 2.20087546, 2.22373734, 0.01536434],\n",
       "       [2.19803113, 2.20943738, 2.22941104, 2.19795707, 0.00902971],\n",
       "       [2.20605868, 2.24217357, 2.22802011, 2.2513224 , 0.00976717]])"
      ]
     },
     "execution_count": 24,
     "metadata": {},
     "output_type": "execute_result"
    }
   ],
   "source": [
    "inputs = scaler.transform(df)\n",
    "inputs"
   ]
  },
  {
   "cell_type": "code",
   "execution_count": 25,
   "id": "3b305374-4be6-4969-a75c-a0cc991ceed7",
   "metadata": {},
   "outputs": [],
   "source": [
    "X_test = []\n",
    "y_test = []\n",
    "\n",
    "for i in range(60, inputs.shape[0]):\n",
    "    X_test.append(inputs[i-60:i])\n",
    "    y_test.append(inputs[i, 0])"
   ]
  },
  {
   "cell_type": "code",
   "execution_count": 26,
   "id": "37d00b49-7db4-466e-b9ec-1d18a649ab7b",
   "metadata": {},
   "outputs": [
    {
     "data": {
      "text/plain": [
       "((759, 60, 5), (759,))"
      ]
     },
     "execution_count": 26,
     "metadata": {},
     "output_type": "execute_result"
    }
   ],
   "source": [
    "X_test, y_test = np.array(X_test), np.array(y_test)\n",
    "X_test.shape, y_test.shape"
   ]
  },
  {
   "cell_type": "code",
   "execution_count": 27,
   "id": "e0e1c515-0dc8-4fd2-951d-c74d83c273c8",
   "metadata": {},
   "outputs": [
    {
     "name": "stdout",
     "output_type": "stream",
     "text": [
      "\u001b[1m24/24\u001b[0m \u001b[32m━━━━━━━━━━━━━━━━━━━━\u001b[0m\u001b[37m\u001b[0m \u001b[1m1s\u001b[0m 26ms/step\n"
     ]
    }
   ],
   "source": [
    "y_pred = regressor.predict(X_test)"
   ]
  },
  {
   "cell_type": "code",
   "execution_count": 28,
   "id": "2209dc32-3286-47b1-a0f0-222e27b3a0b3",
   "metadata": {},
   "outputs": [
    {
     "data": {
      "text/plain": [
       "array([0.95137457, 0.92774367, 0.93228582, 0.92157976, 0.90833219,\n",
       "       0.91210802, 0.91804601, 0.92813899, 0.93834485, 0.93720734,\n",
       "       0.94366976, 0.93706207, 0.92962347, 0.93220516, 0.93527909,\n",
       "       0.94070072, 0.94753423, 0.9523024 , 0.95794995, 0.9644043 ,\n",
       "       0.95768375, 0.97379538, 0.9850501 , 0.9848162 , 0.98730109,\n",
       "       0.99305352, 0.92053897, 0.92608163, 0.90599247, 0.90987319,\n",
       "       0.90550841, 0.91665027, 0.90977638, 0.89792454, 0.90295892,\n",
       "       0.88391862, 0.88156275, 0.86561254, 0.9053793 , 0.90859839,\n",
       "       0.89017934, 0.89137338, 0.88876746, 0.88458823, 0.88937255,\n",
       "       0.88088507, 0.87380141, 0.86367621, 0.85196964, 0.82073872,\n",
       "       0.80263423, 0.81111363, 0.80402189, 0.81053277, 0.82886308,\n",
       "       0.84499086, 0.83124308, 0.83508342, 0.83914161, 0.83862525,\n",
       "       0.85669744, 0.85326049, 0.86492669, 0.85537428, 0.86355518,\n",
       "       0.85958572, 0.84015818, 0.83672931, 0.82904863, 0.84825841,\n",
       "       0.85131609, 0.86234499, 0.86304689, 0.86829105, 0.85574538,\n",
       "       0.87349482, 0.88466091, 0.88205498, 0.88399928, 0.88512074,\n",
       "       0.88850125, 0.88130462, 0.8872103 , 0.87603624, 0.88247443,\n",
       "       0.8737369 , 0.87884386, 0.95068882, 0.96238732, 0.94988202,\n",
       "       0.94816355, 0.94232238, 0.93051899, 0.90629098, 0.90028041,\n",
       "       0.89405199, 0.91715048, 0.92809054, 0.91196275, 0.90740436,\n",
       "       0.90879202, 0.9026282 , 0.91260015, 0.92150708, 0.92434701,\n",
       "       0.92472618, 0.92309654, 0.91613391, 0.89538312, 0.91438313,\n",
       "       0.89975597, 0.9171424 , 0.92838097, 0.9134553 , 0.91151898,\n",
       "       0.92298357, 0.93547271, 0.93381067, 0.92494403, 0.93123705,\n",
       "       0.94703402, 0.95400472, 0.95265734, 0.95361748, 0.95249603,\n",
       "       0.95417412, 0.95523914, 0.94953506, 0.96037033, 0.94101538,\n",
       "       0.96209688, 0.96265352, 0.94471853, 0.94624338, 0.92527484,\n",
       "       0.91465742, 0.92349186, 0.93374617, 0.92710628, 0.92917161,\n",
       "       0.92696908, 0.94748587, 0.93930498, 0.94544466, 0.96183068,\n",
       "       0.96956779, 0.97222207, 0.96738939, 0.96398475, 0.96053973,\n",
       "       0.97578813, 0.97005185, 0.98860809, 0.98941488, 0.97259327,\n",
       "       0.97650619, 0.98118563, 0.98950362, 1.00167809, 1.00078257,\n",
       "       1.00416308, 1.01000425, 1.01200508, 1.00762415, 1.00327563,\n",
       "       1.00474395, 1.02092019, 1.03486957, 1.03026281, 1.01794307,\n",
       "       1.00817282, 1.01119829, 1.00576051, 1.01677326, 1.02121869,\n",
       "       1.01410273, 1.01084335, 0.99156098, 1.01369933, 1.03056132,\n",
       "       1.03520038, 1.04012987, 1.04100118, 1.04774605, 1.0436394 ,\n",
       "       1.04742331, 1.05315153, 1.05912989, 1.05476511, 1.05065856,\n",
       "       1.05968653, 1.05616085, 1.04928696, 1.04633416, 1.06041266,\n",
       "       1.05461187, 1.03765306, 1.04783479, 1.04750397, 1.05043264,\n",
       "       1.0898283 , 1.08527798, 1.10715022, 1.11323337, 1.11789666,\n",
       "       1.12172893, 1.11609753, 1.12612591, 1.13991407, 1.15319385,\n",
       "       1.16185073, 1.16009197, 1.16434369, 1.11490349, 1.12313274,\n",
       "       1.13662229, 1.120196  , 1.14420617, 1.13919601, 1.13341935,\n",
       "       1.1407773 , 1.13139429, 1.143827  , 1.15176581, 1.18084266,\n",
       "       1.18293223, 1.17820444, 1.18185923, 1.18170589, 1.19208124,\n",
       "       1.18547365, 1.17383158, 1.10805383, 1.11446779, 1.08540709,\n",
       "       1.05649166, 0.98805145, 1.05023901, 1.08758549, 1.05634639,\n",
       "       1.04552737, 0.98453374, 0.93210028, 0.9719801 , 0.96704253,\n",
       "       0.86566897, 0.90792071, 0.83903673, 0.83986775, 0.81509914,\n",
       "       0.83791527, 0.87234924, 0.81221894, 0.85063034, 0.86725025,\n",
       "       0.85929529, 0.8695819 , 0.87375305, 0.88673432, 0.86678235,\n",
       "       0.84741932, 0.85928721, 0.87404349, 0.94182217, 0.93059965,\n",
       "       0.94276615, 0.9293088 , 0.96034611, 0.96562256, 0.98226671,\n",
       "       0.99401356, 0.98448539, 0.96255671, 0.96126586, 0.98113718,\n",
       "       0.97247223, 1.00232357, 0.99522375, 1.0450836 , 1.03407893,\n",
       "       1.02821353, 1.01533714, 1.03903265, 1.0555719 , 1.05824244,\n",
       "       1.07478967, 1.07073158, 1.09608902, 1.07022329, 1.03582163,\n",
       "       1.04771375, 1.05846019, 1.07774256, 1.0807116 , 1.09832386,\n",
       "       1.09260372, 1.12331021, 1.10559307, 1.08945721, 1.10594003,\n",
       "       1.11019175, 1.11769496, 1.12390723, 1.11913108, 1.10207546,\n",
       "       1.11065975, 1.12595651, 1.13908305, 1.12255995, 1.11032086,\n",
       "       1.08097781, 1.12899006, 1.13216878, 1.12967582, 1.12172893,\n",
       "       1.10963511, 1.13141044, 1.14051109, 1.11464526, 1.11578287,\n",
       "       1.05745977, 1.08694002, 1.10492347, 1.13128133, 1.16057603,\n",
       "       1.16701422, 1.17078198, 1.178148  , 1.18082651, 1.2104277 ,\n",
       "       1.16431956, 1.18887829, 1.1713467 , 1.1837794 , 1.1822384 ,\n",
       "       1.23873814, 1.21508291, 1.22332841, 1.16948296, 1.18083459,\n",
       "       1.19030633, 1.17417047, 1.16849869, 1.16775651, 1.16287537,\n",
       "       1.1594142 , 1.151435  , 1.15089451, 1.17742995, 1.16271405,\n",
       "       1.16529575, 1.15974501, 1.17676024, 1.18111695, 1.18302097,\n",
       "       1.19120993, 1.21248506, 1.202384  , 1.22806428, 1.24474063,\n",
       "       1.2347606 , 1.25589864, 1.28842041, 1.27459197, 1.28596773,\n",
       "       1.27676229, 1.3056858 , 1.33110786, 1.25807694, 1.19030633,\n",
       "       1.2095887 , 1.21062142, 1.19284775, 1.19567152, 1.19263797,\n",
       "       1.20440906, 1.15868816, 1.16069707, 1.114968  , 1.13005499,\n",
       "       1.13148303, 1.09161946, 1.10966741, 1.14753823, 1.14101937,\n",
       "       1.13862312, 1.15695354, 1.13756628, 1.14000281, 1.15037008,\n",
       "       1.13730815, 1.14226177, 1.16437599, 1.20079464, 1.23226764,\n",
       "       1.23032324, 1.20603879, 1.22002048, 1.23139634, 1.18878148,\n",
       "       1.22649098, 1.23871391, 1.26295808, 1.2629177 , 1.24188465,\n",
       "       1.21048423, 1.18386814, 1.30522587, 1.26980774, 1.27563276,\n",
       "       1.33599697, 1.38833363, 1.37291582, 1.40893107, 1.35551334,\n",
       "       1.3705439 , 1.3653804 , 1.37022116, 1.38324281, 1.38624406,\n",
       "       1.37719187, 1.35830481, 1.38151626, 1.36394429, 1.35368191,\n",
       "       1.38620378, 1.38356555, 1.39252901, 1.38527595, 1.40843087,\n",
       "       1.42874596, 1.42848773, 1.42472007, 1.41904829, 1.42053276,\n",
       "       1.38200032, 1.37990268, 1.38855148, 1.37978972, 1.38725255,\n",
       "       1.38307342, 1.36874477, 1.33886112, 1.3551583 , 1.3508017 ,\n",
       "       1.3548921 , 1.3677282 , 1.40187163, 1.38393664, 1.36156429,\n",
       "       1.37990268, 1.35173751, 1.33170487, 1.35308489, 1.39374727,\n",
       "       1.39363431, 1.36809122, 1.35353664, 1.37092307, 1.35490825,\n",
       "       1.3661872 , 1.43344952, 1.48773058, 1.48596365, 1.50313223,\n",
       "       1.48155052, 1.47261129, 1.43718498, 1.43962151, 1.44814927,\n",
       "       1.50344689, 1.62646676, 1.62244088, 1.62158563, 1.65421229,\n",
       "       1.63388115, 1.64060967, 1.64695115, 1.63789088, 1.64755625,\n",
       "       1.64935538, 1.65824625, 1.66049724, 1.61677717, 1.58482002,\n",
       "       1.59776908, 1.61865687, 1.5976964 , 1.61225905, 1.62584552,\n",
       "       1.61544585, 1.58553   , 1.6228683 , 1.64135206, 1.61367094,\n",
       "       1.62307   , 1.62050446, 1.63517997, 1.60982252, 1.62677325,\n",
       "       1.62877408, 1.61240422, 1.59751893, 1.59582469, 1.60576433,\n",
       "       1.6152926 , 1.59697037, 1.59918097, 1.59141155, 1.61627687,\n",
       "       1.61742245, 1.64795964, 1.6922525 , 1.7437017 , 1.74546065,\n",
       "       1.78652634, 1.77155221, 1.77855532, 1.77602995, 1.78929358,\n",
       "       1.78487237, 1.80688978, 1.79151226, 1.81354582, 1.79302106,\n",
       "       1.7957237 , 1.78894672, 1.8192176 , 1.82979455, 1.89019923,\n",
       "       1.887561  , 1.87044896, 1.86793974, 1.82650297, 1.83866927,\n",
       "       1.82067795, 1.8671168 , 1.83827395, 1.76964021, 1.75602145,\n",
       "       1.75596511, 1.78212128, 1.78617947, 1.81746693, 1.75782866,\n",
       "       1.80830975, 1.82961708, 1.82758394, 1.87365998, 1.86923877,\n",
       "       1.88741584, 1.87561235, 1.8756285 , 1.8874964 , 1.85246551,\n",
       "       1.87145745, 1.8877304 , 1.90593977, 1.90547177, 1.90183312,\n",
       "       1.9285219 , 1.92227733, 1.93578304, 1.9216157 , 1.9075049 ,\n",
       "       1.91830797, 1.90432619, 1.92448793, 1.9300307 , 1.939817  ,\n",
       "       1.9285219 , 1.93947013, 1.93934092, 1.92843307, 1.92408454,\n",
       "       1.94707814, 1.98739356, 2.0118152 , 1.96121317, 1.97733287,\n",
       "       1.99593757, 2.00982244, 2.02465928, 2.03580921, 2.01989928,\n",
       "       1.99450953, 1.98544118, 1.99521941, 2.02281977, 2.06455535,\n",
       "       2.11131704, 2.12619425, 2.15945831, 2.15684431, 2.13885279,\n",
       "       2.14017604, 2.14046637, 2.14392755, 2.14926861, 2.15510171,\n",
       "       2.1534962 , 2.17607833, 2.17348835, 2.15402861, 2.17459376,\n",
       "       2.17903112, 2.18266169, 2.16249186, 2.12917935, 2.15442393,\n",
       "       2.18620342, 2.22883443, 2.24518814, 2.24720512, 2.24563192,\n",
       "       2.28996515, 2.30201859, 2.29964667, 2.30313207, 2.26867397,\n",
       "       2.28084027, 2.28512439, 2.28093718, 2.28693968, 2.25042422,\n",
       "       2.26730226, 2.26368785, 2.28271209, 2.26786718, 2.18930158,\n",
       "       2.21492533, 2.20773687, 2.23490153, 2.22765655, 2.23194874,\n",
       "       2.19726472, 2.17023715, 2.12637172, 2.12937297, 2.15378653,\n",
       "       2.12281384, 2.13425411, 2.20108891, 2.21214193, 2.20754325,\n",
       "       2.2105768 , 2.17705451, 2.21047989, 2.24501875, 2.23633764,\n",
       "       2.27362759, 2.27282888, 2.24751161, 2.20525189, 2.17943451,\n",
       "       2.20708332, 2.20936661, 2.33408861, 2.30090531, 2.34879643,\n",
       "       2.29286161, 2.31417702, 2.33392729, 2.36692505, 2.37750219,\n",
       "       2.36794969, 2.33998631, 2.32368106, 2.32571419, 2.36258459,\n",
       "       2.35046655, 2.34849802, 2.35195112, 2.37993064, 2.3695552 ,\n",
       "       2.31825136, 2.30728697, 2.28913413, 2.28351081, 2.29978376,\n",
       "       2.28351081, 2.23913719, 2.27836356, 2.2680285 , 2.30927165,\n",
       "       2.34154337, 2.34145473, 2.35934935, 2.34452846, 2.28299455,\n",
       "       2.27397446, 2.33466948, 2.25930702, 2.21896737, 2.25210241,\n",
       "       2.2684642 , 2.32385046, 2.33604926, 2.35186228, 2.326182  ,\n",
       "       2.32698072, 2.31658932, 2.30053422, 2.3060364 , 2.29028779,\n",
       "       2.17053556, 2.18904335, 2.13954672, 2.18680851, 2.23752361,\n",
       "       2.24381663, 2.17183459, 2.15724771, 2.16287103, 2.1584579 ,\n",
       "       2.09945722, 1.9927104 , 2.03727763, 2.07566471, 2.07865   ,\n",
       "       2.05210639, 2.12476621, 2.18015247, 2.40049579, 2.3110306 ,\n",
       "       2.27454725, 2.28754477, 2.20325913, 2.23451429, 2.21418314,\n",
       "       2.19637717, 2.11015511, 2.17976523, 2.16485571, 2.15834503,\n",
       "       2.11355187, 2.05499477, 2.08420872, 1.97617921, 2.11492338,\n",
       "       2.10682315, 2.13632762, 2.13228558, 2.15458525, 2.10484654,\n",
       "       2.08161894, 1.9970993 , 2.0777786 , 2.07803683, 2.11389874,\n",
       "       2.06164274, 2.00881395, 2.06943629, 2.10842058, 2.11286602,\n",
       "       2.15706216, 2.15606174, 2.19803113, 2.20605868])"
      ]
     },
     "execution_count": 28,
     "metadata": {},
     "output_type": "execute_result"
    }
   ],
   "source": [
    "y_test"
   ]
  },
  {
   "cell_type": "code",
   "execution_count": 29,
   "id": "c4c8b721-3f03-42f5-b93f-2199442bb5e2",
   "metadata": {},
   "outputs": [
    {
     "data": {
      "text/plain": [
       "array([8.06792972e-04, 8.06114202e-04, 8.23064254e-04, 8.09424979e-04,\n",
       "       1.22503130e-08])"
      ]
     },
     "execution_count": 29,
     "metadata": {},
     "output_type": "execute_result"
    }
   ],
   "source": [
    "scaler.scale_"
   ]
  },
  {
   "cell_type": "code",
   "execution_count": 30,
   "id": "7ee00bbd-f4e6-48a0-b070-b0e7a90a7fe2",
   "metadata": {},
   "outputs": [
    {
     "data": {
      "text/plain": [
       "1221.5901990069017"
      ]
     },
     "execution_count": 30,
     "metadata": {},
     "output_type": "execute_result"
    }
   ],
   "source": [
    "scale = 1/8.18605127e-04\n",
    "scale"
   ]
  },
  {
   "cell_type": "code",
   "execution_count": 31,
   "id": "7771efa6-c3c8-4fbf-a673-75d91531ff8d",
   "metadata": {},
   "outputs": [],
   "source": [
    "y_pred = y_pred*scale\n",
    "y_test = y_test*scale"
   ]
  },
  {
   "cell_type": "code",
   "execution_count": 32,
   "id": "1f2f1695-1814-4f3e-9267-5713760c6a86",
   "metadata": {},
   "outputs": [
    {
     "name": "stdout",
     "output_type": "stream",
     "text": [
      "Mean Absolute Error (MAE): 56.7420\n",
      "Mean Squared Error (MSE): 6243.9813\n",
      "Root Mean Squared Error (RMSE): 79.0189\n",
      "R² Score: 0.9839\n"
     ]
    }
   ],
   "source": [
    "from sklearn.metrics import mean_squared_error, mean_absolute_error, r2_score\n",
    "import math\n",
    "\n",
    "# Inverse transform to get actual price values\n",
    "predicted_prices = y_pred\n",
    "actual_prices = y_test.reshape(-1, 1)\n",
    "\n",
    "# Performance metrics\n",
    "mae = mean_absolute_error(actual_prices, predicted_prices)\n",
    "mse = mean_squared_error(actual_prices, predicted_prices)\n",
    "rmse = math.sqrt(mse)\n",
    "r2 = r2_score(actual_prices, predicted_prices)\n",
    "\n",
    "print(f\"Mean Absolute Error (MAE): {mae:.4f}\")\n",
    "print(f\"Mean Squared Error (MSE): {mse:.4f}\")\n",
    "print(f\"Root Mean Squared Error (RMSE): {rmse:.4f}\")\n",
    "print(f\"R² Score: {r2:.4f}\")"
   ]
  },
  {
   "cell_type": "code",
   "execution_count": 33,
   "id": "4cd66c5b-e7aa-48f8-8b5c-55a2919e58e6",
   "metadata": {},
   "outputs": [
    {
     "data": {
      "image/png": "[encoded data removed]",
      "text/plain": [
       "<Figure size 1400x500 with 1 Axes>"
      ]
     },
     "metadata": {},
     "output_type": "display_data"
    }
   ],
   "source": [
    "# Visualising the results\n",
    "plt.figure(figsize=(14,5))\n",
    "plt.plot(y_test, color = 'red', label = 'Real Google Stock Price')\n",
    "plt.plot(y_pred, color = 'blue', label = 'Predicted Google Stock Price')\n",
    "plt.title('Google Stock Price Prediction')\n",
    "plt.xlabel('Time')\n",
    "plt.ylabel('Google Stock Price')\n",
    "plt.legend()\n",
    "plt.show()"
   ]
  },
  {
   "cell_type": "code",
   "execution_count": null,
   "id": "b7bf4269-91e7-426f-9845-c9fda8fdc3bc",
   "metadata": {},
   "outputs": [],
   "source": []
  }
 ],
 "metadata": {
  "kernelspec": {
   "display_name": "Python 3 (ipykernel)",
   "language": "python",
   "name": "python3"
  },
  "language_info": {
   "codemirror_mode": {
    "name": "ipython",
    "version": 3
   },
   "file_extension": ".py",
   "mimetype": "text/x-python",
   "name": "python",
   "nbconvert_exporter": "python",
   "pygments_lexer": "ipython3",
   "version": "3.12.4"
  }
 },
 "nbformat": 4,
 "nbformat_minor": 5
}
